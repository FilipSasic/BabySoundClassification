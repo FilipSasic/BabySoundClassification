{
 "metadata": {
  "language_info": {
   "codemirror_mode": {
    "name": "ipython",
    "version": 3
   },
   "file_extension": ".py",
   "mimetype": "text/x-python",
   "name": "python",
   "nbconvert_exporter": "python",
   "pygments_lexer": "ipython3",
   "version": "3.8.9"
  },
  "orig_nbformat": 2,
  "kernelspec": {
   "name": "python3",
   "display_name": "Python 3",
   "language": "python"
  },
  "metadata": {
   "interpreter": {
    "hash": "4cd7ab41f5fca4b9b44701077e38c5ffd31fe66a6cab21e0214b68d958d0e462"
   }
  }
 },
 "nbformat": 4,
 "nbformat_minor": 2,
 "cells": [
  {
   "source": [
    "## Dataset - UrbanSound\n",
    "https://drive.google.com/drive/folders/0By0bAi7hOBAFUHVXd1JCN3MwTEU\n",
    "\n",
    "medium\n",
    "https://towardsdatascience.com/urban-sound-classification-using-neural-networks-9b6fcd8a9150"
   ],
   "cell_type": "markdown",
   "metadata": {}
  },
  {
   "cell_type": "code",
   "execution_count": 1,
   "metadata": {},
   "outputs": [],
   "source": [
    "%matplotlib inline\n",
    "from memory_profiler import memory_usage\n",
    "import os\n",
    "import pandas as pd\n",
    "from glob import glob\n",
    "import numpy as np"
   ]
  },
  {
   "cell_type": "code",
   "execution_count": 2,
   "metadata": {},
   "outputs": [],
   "source": [
    "import librosa\n",
    "import librosa.display\n",
    "import pylab\n",
    "import matplotlib.pyplot as plt\n",
    "from matplotlib import figure\n",
    "import gc\n",
    "from path import Path\n"
   ]
  },
  {
   "cell_type": "code",
   "execution_count": 17,
   "metadata": {},
   "outputs": [
    {
     "output_type": "execute_result",
     "data": {
      "text/plain": [
       "array(['data/train/Train/4412.wav', 'data/train/Train/8108.wav',\n",
       "       'data/train/Train/2829.wav', ..., 'data/train/Train/5806.wav',\n",
       "       'data/train/Train/7204.wav', 'data/train/Train/4994.wav'],\n",
       "      dtype='<U25')"
      ]
     },
     "metadata": {},
     "execution_count": 17
    }
   ],
   "source": [
    "Data_dir=np.array(glob(\"data/train/Train/*\"))\n",
    "\n",
    "a = len(Data_dir)\n",
    "Data_dir[4000: 99999]"
   ]
  },
  {
   "cell_type": "code",
   "execution_count": 3,
   "metadata": {},
   "outputs": [],
   "source": [
    "def create_spectrogram(filename,name):\n",
    "    plt.interactive(False)\n",
    "    clip, sample_rate = librosa.load(filename, sr=None)\n",
    "    fig = plt.figure(figsize=[0.72,0.72])\n",
    "    ax = fig.add_subplot(111)\n",
    "    ax.axes.get_xaxis().set_visible(False)\n",
    "    ax.axes.get_yaxis().set_visible(False)\n",
    "    ax.set_frame_on(False)\n",
    "    S = librosa.feature.melspectrogram(y=clip, sr=sample_rate)\n",
    "    librosa.display.specshow(librosa.power_to_db(S, ref=np.max))\n",
    "    filename  = 'data/train/img/' + name + '.jpg'\n",
    "    plt.savefig(filename, dpi=400, bbox_inches='tight',pad_inches=0)\n",
    "    plt.close()    \n",
    "    fig.clf()\n",
    "    plt.close(fig)\n",
    "    plt.close('all')\n",
    "    del filename,name,clip,sample_rate,fig,ax,S"
   ]
  },
  {
   "cell_type": "code",
   "execution_count": 4,
   "metadata": {},
   "outputs": [],
   "source": [
    "def create_spectrogram_test(filename,name):\n",
    "    plt.interactive(False)\n",
    "    clip, sample_rate = librosa.load(filename, sr=None)\n",
    "    fig = plt.figure(figsize=[0.72,0.72])\n",
    "    ax = fig.add_subplot(111)\n",
    "    ax.axes.get_xaxis().set_visible(False)\n",
    "    ax.axes.get_yaxis().set_visible(False)\n",
    "    ax.set_frame_on(False)\n",
    "    S = librosa.feature.melspectrogram(y=clip, sr=sample_rate)\n",
    "    librosa.display.specshow(librosa.power_to_db(S, ref=np.max))\n",
    "    filename  = Path('data/test/img/' + name + '.jpg')\n",
    "    fig.savefig(filename, dpi=400, bbox_inches='tight',pad_inches=0)\n",
    "    plt.close()    \n",
    "    fig.clf()\n",
    "    plt.close(fig)\n",
    "    plt.close('all')\n",
    "    del filename,name,clip,sample_rate,fig,ax,S"
   ]
  },
  {
   "cell_type": "code",
   "execution_count": 5,
   "metadata": {
    "tags": [
     "outputPrepend"
    ]
   },
   "outputs": [
    {
     "output_type": "stream",
     "name": "stdout",
     "text": [
      "ain/4440.wav 4440\ndata/train/Train/4168.wav 4168\ndata/train/Train/4728.wav 4728\ndata/train/Train/4539.wav 4539\ndata/train/Train/4475.wav 4475\ndata/train/Train/4583.wav 4583\ndata/train/Train/4203.wav 4203\ndata/train/Train/4836.wav 4836\ndata/train/Train/479.wav 479\ndata/train/Train/4356.wav 4356\ndata/train/Train/4453.wav 4453\ndata/train/Train/4896.wav 4896\ndata/train/Train/4889.wav 4889\ndata/train/Train/4511.wav 4511\ndata/train/Train/4948.wav 4948\ndata/train/Train/4661.wav 4661\ndata/train/Train/4311.wav 4311\ndata/train/Train/4526.wav 4526\ndata/train/Train/468.wav 468\ndata/train/Train/4506.wav 4506\ndata/train/Train/4879.wav 4879\ndata/train/Train/4028.wav 4028\ndata/train/Train/4316.wav 4316\ndata/train/Train/4199.wav 4199\ndata/train/Train/4968.wav 4968\ndata/train/Train/4857.wav 4857\ndata/train/Train/46.wav 46\ndata/train/Train/4988.wav 4988\ndata/train/Train/493.wav 493\ndata/train/Train/4363.wav 4363\ndata/train/Train/4522.wav 4522\ndata/train/Train/489.wav 489\ndata/train/Train/48.wav 48\ndata/train/Train/4534.wav 4534\ndata/train/Train/407.wav 407\ndata/train/Train/4828.wav 4828\ndata/train/Train/4676.wav 4676\ndata/train/Train/4100.wav 4100\ndata/train/Train/4866.wav 4866\ndata/train/Train/437.wav 437\ndata/train/Train/4801.wav 4801\ndata/train/Train/4265.wav 4265\ndata/train/Train/423.wav 423\ndata/train/Train/475.wav 475\ndata/train/Train/4569.wav 4569\ndata/train/Train/4655.wav 4655\ndata/train/Train/4029.wav 4029\ndata/train/Train/4737.wav 4737\ndata/train/Train/429.wav 429\ndata/train/Train/4763.wav 4763\ndata/train/Train/45.wav 45\ndata/train/Train/4925.wav 4925\ndata/train/Train/4674.wav 4674\ndata/train/Train/4611.wav 4611\ndata/train/Train/4094.wav 4094\ndata/train/Train/4239.wav 4239\ndata/train/Train/427.wav 427\ndata/train/Train/4535.wav 4535\ndata/train/Train/4714.wav 4714\ndata/train/Train/4667.wav 4667\ndata/train/Train/4333.wav 4333\ndata/train/Train/4320.wav 4320\ndata/train/Train/4134.wav 4134\ndata/train/Train/4804.wav 4804\ndata/train/Train/4205.wav 4205\ndata/train/Train/4716.wav 4716\ndata/train/Train/4775.wav 4775\ndata/train/Train/485.wav 485\ndata/train/Train/4991.wav 4991\ndata/train/Train/4736.wav 4736\ndata/train/Train/4401.wav 4401\ndata/train/Train/450.wav 450\ndata/train/Train/4821.wav 4821\ndata/train/Train/4137.wav 4137\ndata/train/Train/4004.wav 4004\ndata/train/Train/4228.wav 4228\ndata/train/Train/4086.wav 4086\ndata/train/Train/4427.wav 4427\ndata/train/Train/4840.wav 4840\ndata/train/Train/4632.wav 4632\ndata/train/Train/4805.wav 4805\ndata/train/Train/4956.wav 4956\ndata/train/Train/426.wav 426\ndata/train/Train/4571.wav 4571\ndata/train/Train/4912.wav 4912\ndata/train/Train/4584.wav 4584\ndata/train/Train/4473.wav 4473\ndata/train/Train/4375.wav 4375\ndata/train/Train/4450.wav 4450\ndata/train/Train/4695.wav 4695\ndata/train/Train/4598.wav 4598\ndata/train/Train/455.wav 455\ndata/train/Train/449.wav 449\ndata/train/Train/4379.wav 4379\ndata/train/Train/4704.wav 4704\ndata/train/Train/4183.wav 4183\ndata/train/Train/442.wav 442\ndata/train/Train/4806.wav 4806\ndata/train/Train/4201.wav 4201\ndata/train/Train/4299.wav 4299\ndata/train/Train/4937.wav 4937\ndata/train/Train/4960.wav 4960\ndata/train/Train/4668.wav 4668\ndata/train/Train/4909.wav 4909\ndata/train/Train/4610.wav 4610\ndata/train/Train/4833.wav 4833\ndata/train/Train/4361.wav 4361\ndata/train/Train/4559.wav 4559\ndata/train/Train/4592.wav 4592\ndata/train/Train/4636.wav 4636\ndata/train/Train/4658.wav 4658\ndata/train/Train/4246.wav 4246\ndata/train/Train/4581.wav 4581\ndata/train/Train/4911.wav 4911\ndata/train/Train/4858.wav 4858\ndata/train/Train/430.wav 430\ndata/train/Train/408.wav 408\ndata/train/Train/4513.wav 4513\ndata/train/Train/4364.wav 4364\ndata/train/Train/4406.wav 4406\ndata/train/Train/4950.wav 4950\ndata/train/Train/447.wav 447\ndata/train/Train/4371.wav 4371\ndata/train/Train/4750.wav 4750\ndata/train/Train/4352.wav 4352\ndata/train/Train/4366.wav 4366\ndata/train/Train/4574.wav 4574\ndata/train/Train/4645.wav 4645\ndata/train/Train/4106.wav 4106\ndata/train/Train/4677.wav 4677\ndata/train/Train/4616.wav 4616\ndata/train/Train/4657.wav 4657\ndata/train/Train/4386.wav 4386\ndata/train/Train/4993.wav 4993\ndata/train/Train/4575.wav 4575\ndata/train/Train/4877.wav 4877\ndata/train/Train/4432.wav 4432\ndata/train/Train/4062.wav 4062\ndata/train/Train/4365.wav 4365\ndata/train/Train/4618.wav 4618\ndata/train/Train/4464.wav 4464\ndata/train/Train/4873.wav 4873\ndata/train/Train/4568.wav 4568\ndata/train/Train/4291.wav 4291\ndata/train/Train/4362.wav 4362\ndata/train/Train/4650.wav 4650\ndata/train/Train/4758.wav 4758\ndata/train/Train/4541.wav 4541\ndata/train/Train/4890.wav 4890\ndata/train/Train/4089.wav 4089\ndata/train/Train/4287.wav 4287\ndata/train/Train/4242.wav 4242\ndata/train/Train/4058.wav 4058\ndata/train/Train/4030.wav 4030\ndata/train/Train/4297.wav 4297\ndata/train/Train/4945.wav 4945\ndata/train/Train/4747.wav 4747\ndata/train/Train/4378.wav 4378\ndata/train/Train/4928.wav 4928\ndata/train/Train/4938.wav 4938\ndata/train/Train/4324.wav 4324\ndata/train/Train/4257.wav 4257\ndata/train/Train/4426.wav 4426\ndata/train/Train/4659.wav 4659\ndata/train/Train/4521.wav 4521\ndata/train/Train/4351.wav 4351\ndata/train/Train/4044.wav 4044\ndata/train/Train/4769.wav 4769\ndata/train/Train/4420.wav 4420\ndata/train/Train/4180.wav 4180\ndata/train/Train/4490.wav 4490\ndata/train/Train/4313.wav 4313\ndata/train/Train/4725.wav 4725\ndata/train/Train/4096.wav 4096\ndata/train/Train/4200.wav 4200\ndata/train/Train/435.wav 435\ndata/train/Train/4011.wav 4011\ndata/train/Train/4424.wav 4424\ndata/train/Train/4317.wav 4317\ndata/train/Train/4472.wav 4472\ndata/train/Train/4733.wav 4733\ndata/train/Train/4111.wav 4111\ndata/train/Train/4143.wav 4143\ndata/train/Train/4861.wav 4861\ndata/train/Train/4536.wav 4536\ndata/train/Train/4762.wav 4762\ndata/train/Train/425.wav 425\ndata/train/Train/4785.wav 4785\ndata/train/Train/4328.wav 4328\ndata/train/Train/457.wav 457\ndata/train/Train/4169.wav 4169\ndata/train/Train/4614.wav 4614\ndata/train/Train/4792.wav 4792\ndata/train/Train/4416.wav 4416\ndata/train/Train/4832.wav 4832\ndata/train/Train/402.wav 402\ndata/train/Train/4554.wav 4554\ndata/train/Train/418.wav 418\ndata/train/Train/4198.wav 4198\ndata/train/Train/4826.wav 4826\ndata/train/Train/4963.wav 4963\ndata/train/Train/4900.wav 4900\ndata/train/Train/4397.wav 4397\ndata/train/Train/4625.wav 4625\ndata/train/Train/4781.wav 4781\ndata/train/Train/4411.wav 4411\ndata/train/Train/4369.wav 4369\ndata/train/Train/4974.wav 4974\ndata/train/Train/4104.wav 4104\ndata/train/Train/461.wav 461\ndata/train/Train/4914.wav 4914\ndata/train/Train/4754.wav 4754\ndata/train/Train/4433.wav 4433\ndata/train/Train/4121.wav 4121\ndata/train/Train/4854.wav 4854\ndata/train/Train/4249.wav 4249\ndata/train/Train/4961.wav 4961\ndata/train/Train/4561.wav 4561\ndata/train/Train/4643.wav 4643\ndata/train/Train/4753.wav 4753\ndata/train/Train/477.wav 477\ndata/train/Train/4510.wav 4510\ndata/train/Train/4083.wav 4083\ndata/train/Train/4989.wav 4989\ndata/train/Train/4458.wav 4458\ndata/train/Train/4902.wav 4902\ndata/train/Train/4382.wav 4382\ndata/train/Train/4307.wav 4307\ndata/train/Train/4428.wav 4428\ndata/train/Train/4895.wav 4895\ndata/train/Train/4408.wav 4408\ndata/train/Train/4244.wav 4244\ndata/train/Train/4130.wav 4130\ndata/train/Train/4883.wav 4883\ndata/train/Train/4633.wav 4633\ndata/train/Train/4232.wav 4232\ndata/train/Train/406.wav 406\ndata/train/Train/4607.wav 4607\ndata/train/Train/4685.wav 4685\ndata/train/Train/4190.wav 4190\ndata/train/Train/4748.wav 4748\ndata/train/Train/4966.wav 4966\ndata/train/Train/4749.wav 4749\ndata/train/Train/4001.wav 4001\ndata/train/Train/4163.wav 4163\ndata/train/Train/4635.wav 4635\ndata/train/Train/4093.wav 4093\ndata/train/Train/4830.wav 4830\ndata/train/Train/4131.wav 4131\ndata/train/Train/4952.wav 4952\ndata/train/Train/4745.wav 4745\ndata/train/Train/4273.wav 4273\ndata/train/Train/4827.wav 4827\ndata/train/Train/4672.wav 4672\ndata/train/Train/4888.wav 4888\ndata/train/Train/4853.wav 4853\ndata/train/Train/4545.wav 4545\ndata/train/Train/4502.wav 4502\ndata/train/Train/4756.wav 4756\ndata/train/Train/4119.wav 4119\ndata/train/Train/4822.wav 4822\ndata/train/Train/4723.wav 4723\ndata/train/Train/4829.wav 4829\ndata/train/Train/4986.wav 4986\ndata/train/Train/4396.wav 4396\ndata/train/Train/4702.wav 4702\ndata/train/Train/4103.wav 4103\ndata/train/Train/4449.wav 4449\ndata/train/Train/4217.wav 4217\ndata/train/Train/4400.wav 4400\ndata/train/Train/4041.wav 4041\ndata/train/Train/4241.wav 4241\ndata/train/Train/4684.wav 4684\ndata/train/Train/4884.wav 4884\ndata/train/Train/4293.wav 4293\ndata/train/Train/4159.wav 4159\ndata/train/Train/4235.wav 4235\ndata/train/Train/4178.wav 4178\ndata/train/Train/4210.wav 4210\ndata/train/Train/4972.wav 4972\ndata/train/Train/4997.wav 4997\ndata/train/Train/4628.wav 4628\ndata/train/Train/4793.wav 4793\ndata/train/Train/4487.wav 4487\ndata/train/Train/4430.wav 4430\ndata/train/Train/4766.wav 4766\ndata/train/Train/4852.wav 4852\ndata/train/Train/4528.wav 4528\ndata/train/Train/400.wav 400\ndata/train/Train/4451.wav 4451\ndata/train/Train/4622.wav 4622\ndata/train/Train/4290.wav 4290\ndata/train/Train/4743.wav 4743\ndata/train/Train/4162.wav 4162\ndata/train/Train/4122.wav 4122\ndata/train/Train/4693.wav 4693\ndata/train/Train/40.wav 40\ndata/train/Train/4617.wav 4617\ndata/train/Train/4222.wav 4222\ndata/train/Train/4842.wav 4842\ndata/train/Train/44.wav 44\ndata/train/Train/4680.wav 4680\ndata/train/Train/4666.wav 4666\ndata/train/Train/4906.wav 4906\ndata/train/Train/4623.wav 4623\ndata/train/Train/4415.wav 4415\ndata/train/Train/4530.wav 4530\ndata/train/Train/4920.wav 4920\ndata/train/Train/4589.wav 4589\ndata/train/Train/4326.wav 4326\ndata/train/Train/4301.wav 4301\ndata/train/Train/4903.wav 4903\ndata/train/Train/4050.wav 4050\ndata/train/Train/4563.wav 4563\ndata/train/Train/4327.wav 4327\ndata/train/Train/4425.wav 4425\ndata/train/Train/4880.wav 4880\ndata/train/Train/4913.wav 4913\ndata/train/Train/4907.wav 4907\ndata/train/Train/4438.wav 4438\ndata/train/Train/456.wav 456\ndata/train/Train/4942.wav 4942\ndata/train/Train/4499.wav 4499\ndata/train/Train/4038.wav 4038\ndata/train/Train/4204.wav 4204\ndata/train/Train/4529.wav 4529\ndata/train/Train/4860.wav 4860\ndata/train/Train/4810.wav 4810\ndata/train/Train/4931.wav 4931\ndata/train/Train/4486.wav 4486\ndata/train/Train/42.wav 42\ndata/train/Train/4547.wav 4547\ndata/train/Train/4160.wav 4160\ndata/train/Train/4964.wav 4964\ndata/train/Train/413.wav 413\ndata/train/Train/4281.wav 4281\ndata/train/Train/471.wav 471\ndata/train/Train/4718.wav 4718\ndata/train/Train/4367.wav 4367\ndata/train/Train/4078.wav 4078\ndata/train/Train/497.wav 497\ndata/train/Train/4746.wav 4746\ndata/train/Train/4349.wav 4349\ndata/train/Train/498.wav 498\ndata/train/Train/4442.wav 4442\ndata/train/Train/4285.wav 4285\ndata/train/Train/4166.wav 4166\ndata/train/Train/4193.wav 4193\ndata/train/Train/4476.wav 4476\ndata/train/Train/4126.wav 4126\ndata/train/Train/4319.wav 4319\ndata/train/Train/4556.wav 4556\ndata/train/Train/4231.wav 4231\ndata/train/Train/4601.wav 4601\ndata/train/Train/4181.wav 4181\ndata/train/Train/4573.wav 4573\ndata/train/Train/4384.wav 4384\ndata/train/Train/4532.wav 4532\ndata/train/Train/4640.wav 4640\ndata/train/Train/4002.wav 4002\ndata/train/Train/4056.wav 4056\ndata/train/Train/4698.wav 4698\ndata/train/Train/4835.wav 4835\ndata/train/Train/4076.wav 4076\ndata/train/Train/4662.wav 4662\ndata/train/Train/4097.wav 4097\ndata/train/Train/473.wav 473\ndata/train/Train/4729.wav 4729\ndata/train/Train/444.wav 444\ndata/train/Train/436.wav 436\ndata/train/Train/4794.wav 4794\ndata/train/Train/4054.wav 4054\ndata/train/Train/4262.wav 4262\ndata/train/Train/4953.wav 4953\ndata/train/Train/474.wav 474\ndata/train/Train/4686.wav 4686\ndata/train/Train/4359.wav 4359\ndata/train/Train/4726.wav 4726\ndata/train/Train/4585.wav 4585\ndata/train/Train/4795.wav 4795\ndata/train/Train/4715.wav 4715\ndata/train/Train/4679.wav 4679\ndata/train/Train/4055.wav 4055\ndata/train/Train/4778.wav 4778\ndata/train/Train/4904.wav 4904\ndata/train/Train/4161.wav 4161\ndata/train/Train/410.wav 410\ndata/train/Train/4128.wav 4128\ndata/train/Train/4247.wav 4247\ndata/train/Train/4009.wav 4009\ndata/train/Train/4248.wav 4248\ndata/train/Train/4102.wav 4102\ndata/train/Train/4483.wav 4483\ndata/train/Train/491.wav 491\ndata/train/Train/4491.wav 4491\ndata/train/Train/4314.wav 4314\ndata/train/Train/4630.wav 4630\ndata/train/Train/4227.wav 4227\ndata/train/Train/4191.wav 4191\ndata/train/Train/4138.wav 4138\ndata/train/Train/4651.wav 4651\ndata/train/Train/4140.wav 4140\ndata/train/Train/4790.wav 4790\ndata/train/Train/4741.wav 4741\ndata/train/Train/4707.wav 4707\ndata/train/Train/4515.wav 4515\ndata/train/Train/43.wav 43\ndata/train/Train/4260.wav 4260\ndata/train/Train/4887.wav 4887\ndata/train/Train/4959.wav 4959\ndata/train/Train/4919.wav 4919\ndata/train/Train/4462.wav 4462\ndata/train/Train/4784.wav 4784\ndata/train/Train/4084.wav 4084\ndata/train/Train/4014.wav 4014\ndata/train/Train/4647.wav 4647\ndata/train/Train/4155.wav 4155\ndata/train/Train/4068.wav 4068\ndata/train/Train/4461.wav 4461\ndata/train/Train/4027.wav 4027\ndata/train/Train/4498.wav 4498\ndata/train/Train/4350.wav 4350\ndata/train/Train/4894.wav 4894\ndata/train/Train/4886.wav 4886\ndata/train/Train/4467.wav 4467\ndata/train/Train/4803.wav 4803\ndata/train/Train/4509.wav 4509\ndata/train/Train/4604.wav 4604\ndata/train/Train/4021.wav 4021\ndata/train/Train/4504.wav 4504\ndata/train/Train/4500.wav 4500\ndata/train/Train/4216.wav 4216\ndata/train/Train/4824.wav 4824\ndata/train/Train/4085.wav 4085\ndata/train/Train/4236.wav 4236\ndata/train/Train/4992.wav 4992\ndata/train/Train/4456.wav 4456\ndata/train/Train/4648.wav 4648\ndata/train/Train/464.wav 464\ndata/train/Train/467.wav 467\ndata/train/Train/486.wav 486\ndata/train/Train/4184.wav 4184\ndata/train/Train/4207.wav 4207\ndata/train/Train/4976.wav 4976\ndata/train/Train/4755.wav 4755\ndata/train/Train/4353.wav 4353\ndata/train/Train/4439.wav 4439\ndata/train/Train/4218.wav 4218\ndata/train/Train/4740.wav 4740\ndata/train/Train/4146.wav 4146\ndata/train/Train/4916.wav 4916\ndata/train/Train/4788.wav 4788\ndata/train/Train/4012.wav 4012\ndata/train/Train/453.wav 453\ndata/train/Train/4206.wav 4206\ndata/train/Train/4463.wav 4463\ndata/train/Train/4752.wav 4752\ndata/train/Train/4962.wav 4962\ndata/train/Train/4863.wav 4863\ndata/train/Train/411.wav 411\ndata/train/Train/4540.wav 4540\ndata/train/Train/4839.wav 4839\ndata/train/Train/4412.wav 4412\ndata/train/Train/4066.wav 4066\ndata/train/Train/4022.wav 4022\ndata/train/Train/4800.wav 4800\ndata/train/Train/4820.wav 4820\ndata/train/Train/4637.wav 4637\ndata/train/Train/4000.wav 4000\ndata/train/Train/440.wav 440\ndata/train/Train/4705.wav 4705\ndata/train/Train/4179.wav 4179\ndata/train/Train/4692.wav 4692\ndata/train/Train/4688.wav 4688\ndata/train/Train/4346.wav 4346\ndata/train/Train/4024.wav 4024\ndata/train/Train/47.wav 47\ndata/train/Train/446.wav 446\ndata/train/Train/4437.wav 4437\ndata/train/Train/4807.wav 4807\ndata/train/Train/4267.wav 4267\ndata/train/Train/4783.wav 4783\ndata/train/Train/4641.wav 4641\ndata/train/Train/4392.wav 4392\ndata/train/Train/4323.wav 4323\ndata/train/Train/4770.wav 4770\ndata/train/Train/4064.wav 4064\ndata/train/Train/4870.wav 4870\ndata/train/Train/4759.wav 4759\ndata/train/Train/4170.wav 4170\ndata/train/Train/4015.wav 4015\ndata/train/Train/4006.wav 4006\ndata/train/Train/4683.wav 4683\ndata/train/Train/4940.wav 4940\ndata/train/Train/4742.wav 4742\ndata/train/Train/4081.wav 4081\ndata/train/Train/4125.wav 4125\ndata/train/Train/4067.wav 4067\ndata/train/Train/4612.wav 4612\ndata/train/Train/4139.wav 4139\ndata/train/Train/4253.wav 4253\ndata/train/Train/4117.wav 4117\ndata/train/Train/4682.wav 4682\ndata/train/Train/4278.wav 4278\ndata/train/Train/4921.wav 4921\ndata/train/Train/4646.wav 4646\ndata/train/Train/4730.wav 4730\ndata/train/Train/4934.wav 4934\ndata/train/Train/445.wav 445\ndata/train/Train/4602.wav 4602\ndata/train/Train/4422.wav 4422\ndata/train/Train/4075.wav 4075\ndata/train/Train/4286.wav 4286\ndata/train/Train/417.wav 417\ndata/train/Train/4045.wav 4045\ndata/train/Train/4492.wav 4492\ndata/train/Train/4454.wav 4454\ndata/train/Train/495.wav 495\ndata/train/Train/4182.wav 4182\ndata/train/Train/4578.wav 4578\ndata/train/Train/4431.wav 4431\ndata/train/Train/4003.wav 4003\ndata/train/Train/4224.wav 4224\ndata/train/Train/4436.wav 4436\ndata/train/Train/4985.wav 4985\ndata/train/Train/4171.wav 4171\ndata/train/Train/4358.wav 4358\ndata/train/Train/4331.wav 4331\ndata/train/Train/4899.wav 4899\ndata/train/Train/4175.wav 4175\ndata/train/Train/452.wav 452\ndata/train/Train/4619.wav 4619\ndata/train/Train/4557.wav 4557\ndata/train/Train/4984.wav 4984\ndata/train/Train/4542.wav 4542\ndata/train/Train/4924.wav 4924\ndata/train/Train/4525.wav 4525\ndata/train/Train/4947.wav 4947\ndata/train/Train/4174.wav 4174\ndata/train/Train/4443.wav 4443\ndata/train/Train/4595.wav 4595\ndata/train/Train/4776.wav 4776\ndata/train/Train/4017.wav 4017\ndata/train/Train/4272.wav 4272\ndata/train/Train/4881.wav 4881\ndata/train/Train/4274.wav 4274\ndata/train/Train/4277.wav 4277\ndata/train/Train/480.wav 480\ndata/train/Train/4220.wav 4220\ndata/train/Train/4549.wav 4549\ndata/train/Train/4459.wav 4459\ndata/train/Train/412.wav 412\ndata/train/Train/4.wav 4\ndata/train/Train/4634.wav 4634\ndata/train/Train/4917.wav 4917\ndata/train/Train/4303.wav 4303\ndata/train/Train/4905.wav 4905\ndata/train/Train/4049.wav 4049\ndata/train/Train/438.wav 438\ndata/train/Train/4503.wav 4503\ndata/train/Train/4665.wav 4665\ndata/train/Train/4234.wav 4234\ndata/train/Train/4289.wav 4289\ndata/train/Train/4799.wav 4799\ndata/train/Train/4481.wav 4481\ndata/train/Train/4739.wav 4739\ndata/train/Train/414.wav 414\ndata/train/Train/459.wav 459\ndata/train/Train/4172.wav 4172\ndata/train/Train/4562.wav 4562\ndata/train/Train/4087.wav 4087\ndata/train/Train/4732.wav 4732\ndata/train/Train/4493.wav 4493\ndata/train/Train/4846.wav 4846\ndata/train/Train/4566.wav 4566\ndata/train/Train/4823.wav 4823\ndata/train/Train/4189.wav 4189\ndata/train/Train/4101.wav 4101\ndata/train/Train/482.wav 482\ndata/train/Train/4599.wav 4599\ndata/train/Train/4927.wav 4927\ndata/train/Train/4653.wav 4653\ndata/train/Train/4418.wav 4418\ndata/train/Train/470.wav 470\ndata/train/Train/4690.wav 4690\ndata/train/Train/4417.wav 4417\ndata/train/Train/4091.wav 4091\ndata/train/Train/4613.wav 4613\ndata/train/Train/419.wav 419\ndata/train/Train/4735.wav 4735\ndata/train/Train/4446.wav 4446\ndata/train/Train/454.wav 454\ndata/train/Train/4926.wav 4926\ndata/train/Train/4786.wav 4786\ndata/train/Train/4394.wav 4394\ndata/train/Train/4973.wav 4973\ndata/train/Train/49.wav 49\ndata/train/Train/4390.wav 4390\ndata/train/Train/4791.wav 4791\ndata/train/Train/4663.wav 4663\ndata/train/Train/4279.wav 4279\ndata/train/Train/4990.wav 4990\ndata/train/Train/4847.wav 4847\ndata/train/Train/401.wav 401\ndata/train/Train/4372.wav 4372\ndata/train/Train/4864.wav 4864\ndata/train/Train/4057.wav 4057\ndata/train/Train/462.wav 462\ndata/train/Train/4918.wav 4918\ndata/train/Train/4374.wav 4374\ndata/train/Train/4527.wav 4527\ndata/train/Train/4572.wav 4572\ndata/train/Train/4669.wav 4669\ndata/train/Train/4069.wav 4069\ndata/train/Train/4077.wav 4077\ndata/train/Train/4381.wav 4381\ndata/train/Train/4844.wav 4844\ndata/train/Train/4485.wav 4485\ndata/train/Train/4341.wav 4341\ndata/train/Train/4129.wav 4129\ndata/train/Train/4523.wav 4523\ndata/train/Train/4444.wav 4444\ndata/train/Train/4965.wav 4965\ndata/train/Train/4531.wav 4531\ndata/train/Train/4263.wav 4263\ndata/train/Train/4789.wav 4789\ndata/train/Train/4135.wav 4135\ndata/train/Train/4703.wav 4703\ndata/train/Train/4629.wav 4629\ndata/train/Train/4609.wav 4609\ndata/train/Train/4095.wav 4095\ndata/train/Train/4123.wav 4123\ndata/train/Train/4164.wav 4164\ndata/train/Train/4482.wav 4482\ndata/train/Train/4197.wav 4197\ndata/train/Train/4843.wav 4843\ndata/train/Train/4570.wav 4570\ndata/train/Train/488.wav 488\ndata/train/Train/4039.wav 4039\ndata/train/Train/4474.wav 4474\ndata/train/Train/4708.wav 4708\ndata/train/Train/4767.wav 4767\ndata/train/Train/4480.wav 4480\ndata/train/Train/4834.wav 4834\ndata/train/Train/4514.wav 4514\ndata/train/Train/4337.wav 4337\ndata/train/Train/4338.wav 4338\ndata/train/Train/4046.wav 4046\ndata/train/Train/4393.wav 4393\ndata/train/Train/472.wav 472\ndata/train/Train/4994.wav 4994\n"
     ]
    },
    {
     "output_type": "execute_result",
     "data": {
      "text/plain": [
       "0"
      ]
     },
     "metadata": {},
     "execution_count": 5
    }
   ],
   "source": [
    "Data_dir=np.array(glob(\"data/train/Train/4*\"))\n",
    "i=0\n",
    "for file in Data_dir[i:i+2000]:\n",
    "    #Define the filename as is, \"name\" refers to the JPG, and is split off into the number itself. \n",
    "    filename,name = file,file.split('/')[-1].split('.')[0]\n",
    "    print(file, name)\n",
    "    # create_spectrogram(filename,name)\n",
    "gc.collect()\n",
    "\n",
    "# i=2000\n",
    "# for file in Data_dir[i:i+2000]:\n",
    "#     filename,name = file,file.split('/')[-1].split('.')[0]\n",
    "#     create_spectrogram(filename,name)\n",
    "# gc.collect()\n",
    "\n",
    "# i=4000\n",
    "# for file in Data_dir[i:]:\n",
    "#     filename,name = file,file.split('/')[-1].split('.')[0]\n",
    "#     create_spectrogram(filename,name)\n",
    "# gc.collect()"
   ]
  },
  {
   "cell_type": "code",
   "execution_count": 46,
   "metadata": {},
   "outputs": [
    {
     "output_type": "stream",
     "name": "stderr",
     "text": [
      "/home/vscode/.local/lib/python3.8/site-packages/librosa/filters.py:238: UserWarning: Empty filters detected in mel frequency basis. Some channels will produce empty responses. Try increasing your sampling rate (and fmax) or reducing n_mels.\n  warnings.warn(\n"
     ]
    },
    {
     "output_type": "execute_result",
     "data": {
      "text/plain": [
       "0"
      ]
     },
     "metadata": {},
     "execution_count": 46
    }
   ],
   "source": [
    "Test_dir=np.array(glob(\"data/test/Test/4*\"))\n",
    "i=0\n",
    "for file in Test_dir[i:i+1500]:\n",
    "    filename,name = file,file.split('/')[-1].split('.')[0]\n",
    "    create_spectrogram_test(filename,name)\n",
    "gc.collect()\n",
    "i=1500\n",
    "for file in Test_dir[i:]:\n",
    "    filename,name = file,file.split('/')[-1].split('.')[0]\n",
    "    create_spectrogram_test(filename,name)\n",
    "gc.collect()"
   ]
  },
  {
   "cell_type": "code",
   "execution_count": 87,
   "metadata": {},
   "outputs": [
    {
     "output_type": "execute_result",
     "data": {
      "text/plain": [
       "    ID             Class  ClassID\n",
       "4    4          dog_bark        0\n",
       "24  40        jackhammer        1\n",
       "25  42     engine_idling        2\n",
       "26  43             siren        3\n",
       "27  44  children_playing        4"
      ],
      "text/html": "<div>\n<style scoped>\n    .dataframe tbody tr th:only-of-type {\n        vertical-align: middle;\n    }\n\n    .dataframe tbody tr th {\n        vertical-align: top;\n    }\n\n    .dataframe thead th {\n        text-align: right;\n    }\n</style>\n<table border=\"1\" class=\"dataframe\">\n  <thead>\n    <tr style=\"text-align: right;\">\n      <th></th>\n      <th>ID</th>\n      <th>Class</th>\n      <th>ClassID</th>\n    </tr>\n  </thead>\n  <tbody>\n    <tr>\n      <th>4</th>\n      <td>4</td>\n      <td>dog_bark</td>\n      <td>0</td>\n    </tr>\n    <tr>\n      <th>24</th>\n      <td>40</td>\n      <td>jackhammer</td>\n      <td>1</td>\n    </tr>\n    <tr>\n      <th>25</th>\n      <td>42</td>\n      <td>engine_idling</td>\n      <td>2</td>\n    </tr>\n    <tr>\n      <th>26</th>\n      <td>43</td>\n      <td>siren</td>\n      <td>3</td>\n    </tr>\n    <tr>\n      <th>27</th>\n      <td>44</td>\n      <td>children_playing</td>\n      <td>4</td>\n    </tr>\n  </tbody>\n</table>\n</div>"
     },
     "metadata": {},
     "execution_count": 87
    }
   ],
   "source": [
    "data=pd.read_csv('data/train/train.csv',dtype=str)\n",
    "data['filter'] = data['ID'].str[0]\n",
    "data = data[data['filter'] == '4'][['ID', 'Class']]\n",
    "data['ClassID'] = pd.factorize(data.Class)[0]\n",
    "data.head()"
   ]
  },
  {
   "cell_type": "code",
   "execution_count": 88,
   "metadata": {},
   "outputs": [],
   "source": [
    "from sklearn.model_selection import train_test_split\n",
    "\n",
    "data_train, data_test = train_test_split(data, random_state = 1)\n"
   ]
  },
  {
   "cell_type": "code",
   "execution_count": 143,
   "metadata": {},
   "outputs": [],
   "source": [
    "import torch\n",
    "import torchvision\n",
    "from PIL import Image\n",
    "from torch.utils.data import DataLoader\n",
    "\n",
    "\n",
    "class MyDataset(torch.utils.data.Dataset):\n",
    "    def __init__(self, dataframe, path):\n",
    "        self.dataframe = dataframe\n",
    "        self.path = path\n",
    "\n",
    "    def __len__(self):\n",
    "        return len(self.dataframe)\n",
    "\n",
    "    def __getitem__(self, index):\n",
    "        row = self.dataframe.iloc[index]\n",
    "        im = Image.open(f'{self.path}/{row[\"ID\"]}.jpg')\n",
    "        im.thumbnail((64,64))\n",
    "        return (\n",
    "            torchvision.transforms.functional.to_tensor(im),\n",
    "            row[\"ClassID\"],\n",
    "        )\n",
    "\n",
    "train_dataset = MyDataset(data_train, path='data/train/img/')\n",
    "test_dataset = MyDataset(data_test, path='data/train/img/')"
   ]
  },
  {
   "cell_type": "code",
   "execution_count": 144,
   "metadata": {},
   "outputs": [
    {
     "output_type": "execute_result",
     "data": {
      "text/plain": [
       "(64, 62)"
      ]
     },
     "metadata": {},
     "execution_count": 144
    }
   ],
   "source": [
    "i = Image.open(f'data/train/img/4.jpg')\n",
    "i.thumbnail((64,64))\n",
    "i.size"
   ]
  },
  {
   "cell_type": "code",
   "execution_count": 145,
   "metadata": {},
   "outputs": [],
   "source": [
    "dataloader_train = DataLoader(train_dataset, batch_size=64, shuffle=True)\n",
    "dataloader_test = DataLoader(test_dataset, batch_size=64, shuffle=False)\n"
   ]
  },
  {
   "source": [
    "## Feature Extraction and Database Building\n"
   ],
   "cell_type": "markdown",
   "metadata": {}
  },
  {
   "cell_type": "code",
   "execution_count": 146,
   "metadata": {},
   "outputs": [],
   "source": [
    "from torchvision import datasets, transforms, models\n",
    "import torch\n",
    "from torch import nn\n"
   ]
  },
  {
   "cell_type": "code",
   "execution_count": 147,
   "metadata": {},
   "outputs": [],
   "source": [
    "model = models.resnet18(pretrained=True)"
   ]
  },
  {
   "cell_type": "code",
   "execution_count": 148,
   "metadata": {},
   "outputs": [],
   "source": [
    "# Freeze model weights\n",
    "for param in model.parameters():\n",
    "    param.requires_grad = False"
   ]
  },
  {
   "cell_type": "code",
   "execution_count": 149,
   "metadata": {},
   "outputs": [],
   "source": [
    "vgg16 = models.vgg16(pretrained=True)\n",
    "# Freeze VGG weights\n",
    "for param in vgg16.parameters():\n",
    "    param.requires_grad = False"
   ]
  },
  {
   "cell_type": "code",
   "execution_count": 163,
   "metadata": {},
   "outputs": [],
   "source": [
    "classifier = nn.Sequential(\n",
    "        nn.Linear(512, 64),\n",
    "        nn.ReLU(),\n",
    "        nn.Linear(64, len(data.ClassID.unique())),\n",
    "        nn.Softmax(dim=1)\n",
    "    )"
   ]
  },
  {
   "cell_type": "code",
   "execution_count": 164,
   "metadata": {},
   "outputs": [],
   "source": [
    "model.fc = classifier"
   ]
  },
  {
   "cell_type": "code",
   "execution_count": 165,
   "metadata": {},
   "outputs": [],
   "source": [
    "device = torch.device('cuda:0' if torch.cuda.is_available() else 'cpu')"
   ]
  },
  {
   "cell_type": "code",
   "execution_count": 166,
   "metadata": {},
   "outputs": [
    {
     "output_type": "execute_result",
     "data": {
      "text/plain": [
       "ResNet(\n",
       "  (conv1): Conv2d(3, 64, kernel_size=(7, 7), stride=(2, 2), padding=(3, 3), bias=False)\n",
       "  (bn1): BatchNorm2d(64, eps=1e-05, momentum=0.1, affine=True, track_running_stats=True)\n",
       "  (relu): ReLU(inplace=True)\n",
       "  (maxpool): MaxPool2d(kernel_size=3, stride=2, padding=1, dilation=1, ceil_mode=False)\n",
       "  (layer1): Sequential(\n",
       "    (0): BasicBlock(\n",
       "      (conv1): Conv2d(64, 64, kernel_size=(3, 3), stride=(1, 1), padding=(1, 1), bias=False)\n",
       "      (bn1): BatchNorm2d(64, eps=1e-05, momentum=0.1, affine=True, track_running_stats=True)\n",
       "      (relu): ReLU(inplace=True)\n",
       "      (conv2): Conv2d(64, 64, kernel_size=(3, 3), stride=(1, 1), padding=(1, 1), bias=False)\n",
       "      (bn2): BatchNorm2d(64, eps=1e-05, momentum=0.1, affine=True, track_running_stats=True)\n",
       "    )\n",
       "    (1): BasicBlock(\n",
       "      (conv1): Conv2d(64, 64, kernel_size=(3, 3), stride=(1, 1), padding=(1, 1), bias=False)\n",
       "      (bn1): BatchNorm2d(64, eps=1e-05, momentum=0.1, affine=True, track_running_stats=True)\n",
       "      (relu): ReLU(inplace=True)\n",
       "      (conv2): Conv2d(64, 64, kernel_size=(3, 3), stride=(1, 1), padding=(1, 1), bias=False)\n",
       "      (bn2): BatchNorm2d(64, eps=1e-05, momentum=0.1, affine=True, track_running_stats=True)\n",
       "    )\n",
       "  )\n",
       "  (layer2): Sequential(\n",
       "    (0): BasicBlock(\n",
       "      (conv1): Conv2d(64, 128, kernel_size=(3, 3), stride=(2, 2), padding=(1, 1), bias=False)\n",
       "      (bn1): BatchNorm2d(128, eps=1e-05, momentum=0.1, affine=True, track_running_stats=True)\n",
       "      (relu): ReLU(inplace=True)\n",
       "      (conv2): Conv2d(128, 128, kernel_size=(3, 3), stride=(1, 1), padding=(1, 1), bias=False)\n",
       "      (bn2): BatchNorm2d(128, eps=1e-05, momentum=0.1, affine=True, track_running_stats=True)\n",
       "      (downsample): Sequential(\n",
       "        (0): Conv2d(64, 128, kernel_size=(1, 1), stride=(2, 2), bias=False)\n",
       "        (1): BatchNorm2d(128, eps=1e-05, momentum=0.1, affine=True, track_running_stats=True)\n",
       "      )\n",
       "    )\n",
       "    (1): BasicBlock(\n",
       "      (conv1): Conv2d(128, 128, kernel_size=(3, 3), stride=(1, 1), padding=(1, 1), bias=False)\n",
       "      (bn1): BatchNorm2d(128, eps=1e-05, momentum=0.1, affine=True, track_running_stats=True)\n",
       "      (relu): ReLU(inplace=True)\n",
       "      (conv2): Conv2d(128, 128, kernel_size=(3, 3), stride=(1, 1), padding=(1, 1), bias=False)\n",
       "      (bn2): BatchNorm2d(128, eps=1e-05, momentum=0.1, affine=True, track_running_stats=True)\n",
       "    )\n",
       "  )\n",
       "  (layer3): Sequential(\n",
       "    (0): BasicBlock(\n",
       "      (conv1): Conv2d(128, 256, kernel_size=(3, 3), stride=(2, 2), padding=(1, 1), bias=False)\n",
       "      (bn1): BatchNorm2d(256, eps=1e-05, momentum=0.1, affine=True, track_running_stats=True)\n",
       "      (relu): ReLU(inplace=True)\n",
       "      (conv2): Conv2d(256, 256, kernel_size=(3, 3), stride=(1, 1), padding=(1, 1), bias=False)\n",
       "      (bn2): BatchNorm2d(256, eps=1e-05, momentum=0.1, affine=True, track_running_stats=True)\n",
       "      (downsample): Sequential(\n",
       "        (0): Conv2d(128, 256, kernel_size=(1, 1), stride=(2, 2), bias=False)\n",
       "        (1): BatchNorm2d(256, eps=1e-05, momentum=0.1, affine=True, track_running_stats=True)\n",
       "      )\n",
       "    )\n",
       "    (1): BasicBlock(\n",
       "      (conv1): Conv2d(256, 256, kernel_size=(3, 3), stride=(1, 1), padding=(1, 1), bias=False)\n",
       "      (bn1): BatchNorm2d(256, eps=1e-05, momentum=0.1, affine=True, track_running_stats=True)\n",
       "      (relu): ReLU(inplace=True)\n",
       "      (conv2): Conv2d(256, 256, kernel_size=(3, 3), stride=(1, 1), padding=(1, 1), bias=False)\n",
       "      (bn2): BatchNorm2d(256, eps=1e-05, momentum=0.1, affine=True, track_running_stats=True)\n",
       "    )\n",
       "  )\n",
       "  (layer4): Sequential(\n",
       "    (0): BasicBlock(\n",
       "      (conv1): Conv2d(256, 512, kernel_size=(3, 3), stride=(2, 2), padding=(1, 1), bias=False)\n",
       "      (bn1): BatchNorm2d(512, eps=1e-05, momentum=0.1, affine=True, track_running_stats=True)\n",
       "      (relu): ReLU(inplace=True)\n",
       "      (conv2): Conv2d(512, 512, kernel_size=(3, 3), stride=(1, 1), padding=(1, 1), bias=False)\n",
       "      (bn2): BatchNorm2d(512, eps=1e-05, momentum=0.1, affine=True, track_running_stats=True)\n",
       "      (downsample): Sequential(\n",
       "        (0): Conv2d(256, 512, kernel_size=(1, 1), stride=(2, 2), bias=False)\n",
       "        (1): BatchNorm2d(512, eps=1e-05, momentum=0.1, affine=True, track_running_stats=True)\n",
       "      )\n",
       "    )\n",
       "    (1): BasicBlock(\n",
       "      (conv1): Conv2d(512, 512, kernel_size=(3, 3), stride=(1, 1), padding=(1, 1), bias=False)\n",
       "      (bn1): BatchNorm2d(512, eps=1e-05, momentum=0.1, affine=True, track_running_stats=True)\n",
       "      (relu): ReLU(inplace=True)\n",
       "      (conv2): Conv2d(512, 512, kernel_size=(3, 3), stride=(1, 1), padding=(1, 1), bias=False)\n",
       "      (bn2): BatchNorm2d(512, eps=1e-05, momentum=0.1, affine=True, track_running_stats=True)\n",
       "    )\n",
       "  )\n",
       "  (avgpool): AdaptiveAvgPool2d(output_size=(1, 1))\n",
       "  (fc): Sequential(\n",
       "    (0): Linear(in_features=512, out_features=64, bias=True)\n",
       "    (1): ReLU()\n",
       "    (2): Linear(in_features=64, out_features=10, bias=True)\n",
       "    (3): Softmax(dim=1)\n",
       "  )\n",
       ")"
      ]
     },
     "metadata": {},
     "execution_count": 166
    }
   ],
   "source": [
    "model.to(device)\n"
   ]
  },
  {
   "cell_type": "code",
   "execution_count": 171,
   "metadata": {},
   "outputs": [],
   "source": [
    "from datetime import datetime\n",
    "from sklearn.utils import shuffle\n",
    "\n",
    "criterion = nn.CrossEntropyLoss()\n",
    "optimizer = torch.optim.Adam(model.parameters(), lr=0.01)\n",
    "\n",
    "def batch_gd(model, criterion, optimizer, dataloader_train, dataloader_test, epochs):\n",
    "\n",
    "        train_losses = np.zeros(epochs)\n",
    "        test_losses = np.zeros(epochs)\n",
    "\n",
    "        for it in range(epochs):\n",
    "            t0 = datetime.now()\n",
    "            train_loss = []\n",
    "\n",
    "            # Shuffle each epoch\n",
    "            # X_train, Y_train = shuffle(*train_loader)\n",
    "            for inputs, targets in dataloader_train:\n",
    "                # targets = targets.view(-1, 1).float()\n",
    "\n",
    "                # print(inputs.shape, targets.shape)\n",
    "\n",
    "                # to device\n",
    "                inputs, targets = inputs.to(device), targets.to(device)\n",
    "\n",
    "                # zero the parameter gradients\n",
    "                optimizer.zero_grad()\n",
    "\n",
    "                # Forward pass\n",
    "                outputs = model(inputs)\n",
    "                loss = criterion(outputs, targets)\n",
    "\n",
    "                # Backward and optimize\n",
    "                loss.backward()\n",
    "                optimizer.step()\n",
    "\n",
    "                train_loss.append(loss.item())\n",
    "\n",
    "            # Get train loss and test loss\n",
    "            train_loss = np.mean(train_loss)\n",
    "\n",
    "            test_loss = []\n",
    "            for inputs, targets in dataloader_test:\n",
    "\n",
    "                # to device\n",
    "                inputs, targets = inputs.to(device), targets.to(device)\n",
    "                \n",
    "                outputs = model(inputs)\n",
    "                loss = criterion(outputs, targets)\n",
    "                test_loss.append(loss.item())\n",
    "            test_loss = np.mean(test_loss)\n",
    "\n",
    "            # Save losses\n",
    "            train_losses[it] = train_loss\n",
    "            test_losses[it] = test_loss\n",
    "\n",
    "            dt = datetime.now() - t0\n",
    "            print(f'Epoch {it+1}/{epochs}, Train Loss: {train_loss:.4f}, '\n",
    "                    f'Test Loss: {test_loss:.4f}, Duration: {dt}')\n",
    "\n",
    "        return train_losses, test_losses"
   ]
  },
  {
   "cell_type": "code",
   "execution_count": 172,
   "metadata": {},
   "outputs": [
    {
     "output_type": "stream",
     "name": "stdout",
     "text": [
      "Epoch 1/1, Train Loss: 2.1447, Test Loss: 2.1389, Duration: 0:00:03.322276\n"
     ]
    }
   ],
   "source": [
    "train_losses, test_losses = batch_gd(model, criterion, optimizer, \n",
    "                                    dataloader_train=dataloader_train, dataloader_test=dataloader_test, epochs=1)"
   ]
  },
  {
   "cell_type": "code",
   "execution_count": null,
   "metadata": {},
   "outputs": [],
   "source": []
  },
  {
   "cell_type": "code",
   "execution_count": null,
   "metadata": {},
   "outputs": [],
   "source": []
  },
  {
   "cell_type": "code",
   "execution_count": null,
   "metadata": {},
   "outputs": [],
   "source": []
  },
  {
   "cell_type": "code",
   "execution_count": null,
   "metadata": {},
   "outputs": [],
   "source": []
  },
  {
   "cell_type": "code",
   "execution_count": null,
   "metadata": {},
   "outputs": [],
   "source": []
  }
 ]
}